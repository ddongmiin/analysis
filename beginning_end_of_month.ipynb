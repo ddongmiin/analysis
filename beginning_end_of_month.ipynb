{
 "cells": [
  {
   "cell_type": "code",
   "execution_count": 1,
   "metadata": {},
   "outputs": [],
   "source": [
    "import pandas as pd"
   ]
  },
  {
   "cell_type": "code",
   "execution_count": 2,
   "metadata": {},
   "outputs": [],
   "source": [
    "start_date_forloop = pd.to_datetime('2019-05-01')\n",
    "end_date_forloop = pd.to_datetime('2023-02-28')\n",
    "\n",
    "month_start = pd.date_range(start_date_forloop, end_date_forloop, freq='MS')\n",
    "month_end = pd.date_range(start_date_forloop, end_date_forloop, freq='M')"
   ]
  }
 ],
 "metadata": {
  "kernelspec": {
   "display_name": "analysis",
   "language": "python",
   "name": "python3"
  },
  "language_info": {
   "codemirror_mode": {
    "name": "ipython",
    "version": 3
   },
   "file_extension": ".py",
   "mimetype": "text/x-python",
   "name": "python",
   "nbconvert_exporter": "python",
   "pygments_lexer": "ipython3",
   "version": "3.9.16"
  },
  "orig_nbformat": 4,
  "vscode": {
   "interpreter": {
    "hash": "5b4a82110d231e8ec32b8952f06583ab52dd459571f09895d9d66ca420f28221"
   }
  }
 },
 "nbformat": 4,
 "nbformat_minor": 2
}
