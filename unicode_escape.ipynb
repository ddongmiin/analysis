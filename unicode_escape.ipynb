{
 "cells": [
  {
   "cell_type": "code",
   "execution_count": 1,
   "metadata": {},
   "outputs": [
    {
     "name": "stdout",
     "output_type": "stream",
     "text": [
      "채정현\n"
     ]
    }
   ],
   "source": [
    "text = \"\\\\ucc44\\\\uc815\\\\ud604\"  # 한글 유니코드 이스케이프 문자열\n",
    "decoded_text = text.encode().decode('unicode_escape')\n",
    "print(decoded_text)"
   ]
  },
  {
   "cell_type": "code",
   "execution_count": 14,
   "metadata": {},
   "outputs": [
    {
     "name": "stdout",
     "output_type": "stream",
     "text": [
      "김성우\n"
     ]
    }
   ],
   "source": [
    "text = \"\\\\uae40\\\\uc131\\\\uc6b0\"  # 한글 유니코드 이스케이프 문자열\n",
    "decoded_text = text.encode().decode('unicode_escape')\n",
    "print(decoded_text)"
   ]
  },
  {
   "cell_type": "code",
   "execution_count": null,
   "metadata": {},
   "outputs": [],
   "source": []
  }
 ],
 "metadata": {
  "kernelspec": {
   "display_name": "analysis",
   "language": "python",
   "name": "python3"
  },
  "language_info": {
   "codemirror_mode": {
    "name": "ipython",
    "version": 3
   },
   "file_extension": ".py",
   "mimetype": "text/x-python",
   "name": "python",
   "nbconvert_exporter": "python",
   "pygments_lexer": "ipython3",
   "version": "3.9.16"
  },
  "orig_nbformat": 4,
  "vscode": {
   "interpreter": {
    "hash": "5b4a82110d231e8ec32b8952f06583ab52dd459571f09895d9d66ca420f28221"
   }
  }
 },
 "nbformat": 4,
 "nbformat_minor": 2
}
