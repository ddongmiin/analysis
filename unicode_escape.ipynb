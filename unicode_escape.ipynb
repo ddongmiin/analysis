{
 "cells": [
  {
   "cell_type": "code",
   "execution_count": 15,
   "metadata": {},
   "outputs": [
    {
     "ename": "UnicodeDecodeError",
     "evalue": "'unicodeescape' codec can't decode bytes in position 12-16: truncated \\uXXXX escape",
     "output_type": "error",
     "traceback": [
      "\u001b[0;31m---------------------------------------------------------------------------\u001b[0m",
      "\u001b[0;31mUnicodeDecodeError\u001b[0m                        Traceback (most recent call last)",
      "Cell \u001b[0;32mIn[15], line 2\u001b[0m\n\u001b[1;32m      1\u001b[0m text \u001b[39m=\u001b[39m \u001b[39m\"\u001b[39m\u001b[39m\\\\\u001b[39;00m\u001b[39mucc44\u001b[39m\u001b[39m\\\\\u001b[39;00m\u001b[39muc815\u001b[39m\u001b[39m\\\\\u001b[39;00m\u001b[39mud60\u001b[39m\u001b[39m\"\u001b[39m  \u001b[39m# 한글 유니코드 이스케이프 문자열\u001b[39;00m\n\u001b[0;32m----> 2\u001b[0m decoded_text \u001b[39m=\u001b[39m text\u001b[39m.\u001b[39;49mencode()\u001b[39m.\u001b[39;49mdecode(\u001b[39m'\u001b[39;49m\u001b[39municode_escape\u001b[39;49m\u001b[39m'\u001b[39;49m)\n\u001b[1;32m      3\u001b[0m \u001b[39mprint\u001b[39m(decoded_text)\n",
      "\u001b[0;31mUnicodeDecodeError\u001b[0m: 'unicodeescape' codec can't decode bytes in position 12-16: truncated \\uXXXX escape"
     ]
    }
   ],
   "source": [
    "text = \"\\\\ucc44\\\\uc815\\\\ud60\"  # 한글 유니코드 이스케이프 문자열\n",
    "decoded_text = text.encode().decode('unicode_escape')\n",
    "print(decoded_text)"
   ]
  },
  {
   "cell_type": "code",
   "execution_count": 14,
   "metadata": {},
   "outputs": [
    {
     "name": "stdout",
     "output_type": "stream",
     "text": [
      "김성우\n"
     ]
    }
   ],
   "source": [
    "text = \"\\\\uae40\\\\uc131\\\\uc6b0\"  # 한글 유니코드 이스케이프 문자열\n",
    "decoded_text = text.encode().decode('unicode_escape')\n",
    "print(decoded_text)"
   ]
  },
  {
   "cell_type": "code",
   "execution_count": null,
   "metadata": {},
   "outputs": [],
   "source": []
  }
 ],
 "metadata": {
  "kernelspec": {
   "display_name": "analysis",
   "language": "python",
   "name": "python3"
  },
  "language_info": {
   "codemirror_mode": {
    "name": "ipython",
    "version": 3
   },
   "file_extension": ".py",
   "mimetype": "text/x-python",
   "name": "python",
   "nbconvert_exporter": "python",
   "pygments_lexer": "ipython3",
   "version": "3.9.16"
  },
  "orig_nbformat": 4,
  "vscode": {
   "interpreter": {
    "hash": "5b4a82110d231e8ec32b8952f06583ab52dd459571f09895d9d66ca420f28221"
   }
  }
 },
 "nbformat": 4,
 "nbformat_minor": 2
}
